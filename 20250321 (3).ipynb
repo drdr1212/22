{
 "cells": [
  {
   "cell_type": "code",
   "execution_count": 10,
   "id": "468b0d2a-c4e0-433f-a0c6-54b98eb993fb",
   "metadata": {},
   "outputs": [
    {
     "name": "stdin",
     "output_type": "stream",
     "text": [
      "나이를 입력하세요 11\n"
     ]
    },
    {
     "name": "stdout",
     "output_type": "stream",
     "text": [
      "당신은 내년에 11살 입니다.\n"
     ]
    }
   ],
   "source": [
    "age = (input(\"나이를 입력하세요\")) #age는 문자열!\n",
    "\n",
    "print(\"당신은 내년에\", str(age)+\"살 입니다.\")"
   ]
  },
  {
   "cell_type": "code",
   "execution_count": 2,
   "id": "29013614-cd27-449d-bf8e-33081428a82d",
   "metadata": {},
   "outputs": [
    {
     "name": "stdin",
     "output_type": "stream",
     "text": [
      "나이를 입력하세요 25\n"
     ]
    },
    {
     "name": "stdout",
     "output_type": "stream",
     "text": [
      "당신은 내년에 26 살 입니다.\n"
     ]
    }
   ],
   "source": [
    "age = input(\"나이를 입력하세요\") #age는 문자열!\n",
    "age = int(age) # 숫자로 변경!\n",
    "age = age+1\n",
    "print(\"당신은 내년에\", age,\"살 입니다.\")"
   ]
  },
  {
   "cell_type": "code",
   "execution_count": 13,
   "id": "bf1cdf99-599c-4648-91a3-83c17768b886",
   "metadata": {},
   "outputs": [
    {
     "name": "stdin",
     "output_type": "stream",
     "text": [
      "숫자 넣으쇼 10\n"
     ]
    },
    {
     "name": "stdout",
     "output_type": "stream",
     "text": [
      "짝수\n"
     ]
    }
   ],
   "source": [
    "aa = int(input(\"숫자 넣으쇼\"))\n",
    "\n",
    "if aa%2 == 0:\n",
    "   print(\"짝수\")\n",
    "elif aa%2 != 0:\n",
    "    print(\"홀수\")\n"
   ]
  },
  {
   "cell_type": "code",
   "execution_count": 17,
   "id": "dd40ba49-474a-4e71-8c85-f3534ba15313",
   "metadata": {},
   "outputs": [
    {
     "name": "stdin",
     "output_type": "stream",
     "text": [
      "숫자 11\n"
     ]
    },
    {
     "name": "stdout",
     "output_type": "stream",
     "text": [
      "양수\n"
     ]
    }
   ],
   "source": [
    "aa = int(input(\"숫자\"))\n",
    "\n",
    "if aa>0:\n",
    " print(\"양수\")\n",
    "elif aa==0:\n",
    " print(\"0\")\n",
    "else:\n",
    " print(\"음수\")"
   ]
  },
  {
   "cell_type": "code",
   "execution_count": 36,
   "id": "ffc10673-f1ff-4610-a182-eb16bea74521",
   "metadata": {},
   "outputs": [
    {
     "name": "stdin",
     "output_type": "stream",
     "text": [
      " 1 3\n"
     ]
    }
   ],
   "source": [
    "a,b=map(int,input().split())\n",
    "\n",
    "if a==b:\n",
    "    print(\"무승부\")\n",
    "elif (a=1 and b=2) and (a=2 and b=3) and (a=3 and b=1):\n",
    " print(\"B승\")\n",
    "else:\n",
    " print(\"A승\")"
   ]
  },
  {
   "cell_type": "code",
   "execution_count": 23,
   "id": "536fc4f1-a493-477a-ad64-b9ec912835eb",
   "metadata": {},
   "outputs": [
    {
     "name": "stdin",
     "output_type": "stream",
     "text": [
      "숫자 5\n"
     ]
    },
    {
     "name": "stdout",
     "output_type": "stream",
     "text": [
      "not\n"
     ]
    }
   ],
   "source": [
    "num =int(input(\"숫자\"))\n",
    "\n",
    "if num == 2 or num==3 or num==4:\n",
    " print(\"ok\")\n",
    "else:\n",
    " print(\"not\")"
   ]
  },
  {
   "cell_type": "code",
   "execution_count": 52,
   "id": "e154a7a0-03fe-44ca-9582-411bddc171b3",
   "metadata": {},
   "outputs": [
    {
     "name": "stdin",
     "output_type": "stream",
     "text": [
      " 1 4\n"
     ]
    },
    {
     "name": "stdout",
     "output_type": "stream",
     "text": [
      "no\n"
     ]
    }
   ],
   "source": [
    "a,b=map(int,input().split())\n",
    "if (a>=3 or a<=1) or (b>=3 or b<=1):\n",
    "    print(\"no\")\n",
    "elif a==b:\n",
    "    print(\"무승부\")\n",
    "elif (a==1 and b==2) or (a==2 and b==3) or (a==3 and b==1):\n",
    " print(\"B승\")\n",
    "else:\n",
    " print(\"A승\")"
   ]
  },
  {
   "cell_type": "markdown",
   "id": "8aac7006-a3fb-4f57-8f56-40258936ae0d",
   "metadata": {},
   "source": [
    "# "
   ]
  }
 ],
 "metadata": {
  "kernelspec": {
   "display_name": "Python 3 (ipykernel)",
   "language": "python",
   "name": "python3"
  },
  "language_info": {
   "codemirror_mode": {
    "name": "ipython",
    "version": 3
   },
   "file_extension": ".py",
   "mimetype": "text/x-python",
   "name": "python",
   "nbconvert_exporter": "python",
   "pygments_lexer": "ipython3",
   "version": "3.12.6"
  }
 },
 "nbformat": 4,
 "nbformat_minor": 5
}
