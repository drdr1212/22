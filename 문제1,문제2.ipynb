{
  "nbformat": 4,
  "nbformat_minor": 0,
  "metadata": {
    "colab": {
      "provenance": [],
      "authorship_tag": "ABX9TyMdpS/3s2Rr9je4oYSOxKC2",
      "include_colab_link": true
    },
    "kernelspec": {
      "name": "python3",
      "display_name": "Python 3"
    },
    "language_info": {
      "name": "python"
    }
  },
  "cells": [
    {
      "cell_type": "markdown",
      "metadata": {
        "id": "view-in-github",
        "colab_type": "text"
      },
      "source": [
        "<a href=\"https://colab.research.google.com/github/drdr1212/22/blob/main/%EB%AC%B8%EC%A0%9C1%2C%EB%AC%B8%EC%A0%9C2.ipynb\" target=\"_parent\"><img src=\"https://colab.research.google.com/assets/colab-badge.svg\" alt=\"Open In Colab\"/></a>"
      ]
    },
    {
      "cell_type": "code",
      "execution_count": 10,
      "metadata": {
        "colab": {
          "base_uri": "https://localhost:8080/"
        },
        "id": "lFUciWZJc2mK",
        "outputId": "95b1b259-6e07-42c4-f3dd-53f94c2ef098"
      },
      "outputs": [
        {
          "output_type": "stream",
          "name": "stdout",
          "text": [
            "반지름이 5 인 원의 면적은 78.5398 입니다\n"
          ]
        }
      ],
      "source": [
        "#원의 면적 계산\n",
        "r=5\n",
        "\n",
        "rrp=r*r*3.141592\n",
        "\n",
        "print(\"반지름이\",r,\"인 원의 면적은\",rrp,\"입니다\")"
      ]
    },
    {
      "cell_type": "code",
      "source": [
        "sec=100\n",
        "\n",
        "short=100%60\n",
        "quotient = 100 // 60\n",
        "\n",
        "print(sec,\"분은\",quotient,\"시간\",short,\"분 입니다\")"
      ],
      "metadata": {
        "colab": {
          "base_uri": "https://localhost:8080/"
        },
        "id": "KK24N-07deNo",
        "outputId": "16ccdf9d-f48a-4985-9a12-d92b900789ad"
      },
      "execution_count": 12,
      "outputs": [
        {
          "output_type": "stream",
          "name": "stdout",
          "text": [
            "100 분은 1 시간 40 분 입니다\n"
          ]
        }
      ]
    },
    {
      "cell_type": "code",
      "source": [],
      "metadata": {
        "id": "4SEXiKuXezin"
      },
      "execution_count": null,
      "outputs": []
    }
  ]
}